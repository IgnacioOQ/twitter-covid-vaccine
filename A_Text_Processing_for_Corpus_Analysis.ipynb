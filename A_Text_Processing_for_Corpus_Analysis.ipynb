{
 "cells": [
  {
   "cell_type": "code",
   "execution_count": 1,
   "metadata": {},
   "outputs": [
    {
     "name": "stderr",
     "output_type": "stream",
     "text": [
      "[nltk_data] Downloading package stopwords to\n",
      "[nltk_data]     C:\\Users\\u1085188\\AppData\\Roaming\\nltk_data...\n",
      "[nltk_data]   Package stopwords is already up-to-date!\n",
      "C:\\Users\\u1085188\\AppData\\Local\\Continuum\\anaconda3\\lib\\site-packages\\sklearn\\utils\\deprecation.py:143: FutureWarning: The sklearn.feature_extraction.stop_words module is  deprecated in version 0.22 and will be removed in version 0.24. The corresponding classes / functions should instead be imported from sklearn.feature_extraction.text. Anything that cannot be imported from sklearn.feature_extraction.text is now part of the private API.\n",
      "  warnings.warn(message, FutureWarning)\n"
     ]
    }
   ],
   "source": [
    "import json\n",
    "import networkx as nx\n",
    "import numpy as np\n",
    "import matplotlib.pyplot as plt\n",
    "\n",
    "import pickle\n",
    "from itertools import combinations\n",
    "\n",
    "import pprint\n",
    "import glob\n",
    "from random import random, randrange\n",
    "from random import choice\n",
    "import logging\n",
    "from collections import defaultdict\n",
    "import sys\n",
    "\n",
    "import subprocess\n",
    "import shlex\n",
    "from scipy.stats import pearsonr\n",
    "\n",
    "import pandas as pd\n",
    "\n",
    "import datetime\n",
    "from datetime import datetime, timedelta\n",
    "from dateutil.parser import parse\n",
    "from collections import Counter\n",
    "from scipy.signal import savgol_filter\n",
    "import itertools\n",
    "import time\n",
    "import csv\n",
    "\n",
    "import re\n",
    "\n",
    "import nltk\n",
    "nltk.download('stopwords')\n",
    "from nltk.corpus import stopwords\n",
    "from tqdm import trange, tqdm\n",
    "\n",
    "from sklearn.decomposition import LatentDirichletAllocation,NMF\n",
    "\n",
    "from sklearn.feature_extraction.text import CountVectorizer, TfidfTransformer, TfidfVectorizer\n",
    "from sklearn.feature_extraction.stop_words import ENGLISH_STOP_WORDS"
   ]
  },
  {
   "cell_type": "code",
   "execution_count": 2,
   "metadata": {},
   "outputs": [],
   "source": [
    "start_time = time.time()"
   ]
  },
  {
   "cell_type": "code",
   "execution_count": 3,
   "metadata": {},
   "outputs": [
    {
     "name": "stdout",
     "output_type": "stream",
     "text": [
      "True\n"
     ]
    }
   ],
   "source": [
    "# Using the regular dictionary\n",
    "f = open('pruned_retweet_dict','rb')\n",
    "retweet_dict = pickle.load(f)\n",
    "f.close()\n",
    "\n",
    "# We now assign communities using the saved data\n",
    "PT = nx.read_gexf('PT-pruned.gexf')"
   ]
  },
  {
   "cell_type": "code",
   "execution_count": 4,
   "metadata": {},
   "outputs": [
    {
     "data": {
      "text/plain": [
       "datetime.datetime(2019, 12, 31, 23, 11, 5)"
      ]
     },
     "execution_count": 4,
     "metadata": {},
     "output_type": "execute_result"
    }
   ],
   "source": [
    "datetime.strptime(retweet_dict[1212147705507700736]['date'],'%y-%m-%d-%H:%M:%S')"
   ]
  },
  {
   "cell_type": "code",
   "execution_count": 5,
   "metadata": {},
   "outputs": [
    {
     "data": {
      "text/plain": [
       "'19-12-31-23:11:05'"
      ]
     },
     "execution_count": 5,
     "metadata": {},
     "output_type": "execute_result"
    }
   ],
   "source": [
    "retweet_dict[1212147705507700736]['date']"
   ]
  },
  {
   "cell_type": "code",
   "execution_count": 6,
   "metadata": {},
   "outputs": [],
   "source": [
    "# clusters we care about\n",
    "clusters = [13,48,6,49,104]\n",
    "cluster_names = ['Democrats',\"Republicans\",\"Unorthodox\",\"Public Health\",\"Antivaxxers\"]"
   ]
  },
  {
   "cell_type": "code",
   "execution_count": 7,
   "metadata": {},
   "outputs": [],
   "source": [
    "def author_to_cluster(author):\n",
    "    return(PT.nodes[author]['louvain'])"
   ]
  },
  {
   "cell_type": "code",
   "execution_count": 8,
   "metadata": {},
   "outputs": [
    {
     "data": {
      "text/plain": [
       "104"
      ]
     },
     "execution_count": 8,
     "metadata": {},
     "output_type": "execute_result"
    }
   ],
   "source": [
    "author_to_cluster('LotusOak2')"
   ]
  },
  {
   "cell_type": "code",
   "execution_count": 9,
   "metadata": {},
   "outputs": [],
   "source": [
    "mininglist1 = ['vax', 'vaxxed', 'vaccine', 'vaccination', 'vaccinations', \n",
    "'vaxsafety', 'vax saftey', 'vaccineswork', 'vaccines work', 'vaccinesaftey',\n",
    "'vaccine saftey', 'vaccines revealed', 'vaccinesrevealed', \n",
    "'novax', 'no vax', 'no-vax', 'antivax', 'anti-vax', 'anti vax', 'immunisation', \n",
    "'Vaccin', 'Vaccinaties', 'vaccinatiezorg', 'vaccine injury', 'vax injury',\n",
    "'vaccinatieschade']\n",
    "\n",
    "mininglist2 = ['\\#vax', '\\#vaxxed', '\\#vaccine', '\\#vaccination', '\\#vaccinations', '\\#vaxsafety', '\\#vaccineswork', '\\#vaccinesaftey', '\\#vaccinesrevealed', '\\#novax', '\\#antivax', '\\#immunisation', '\\#Vaccin', '\\#Vaccinaties', '\\#vaccinatiezorg', \n",
    "'\\#vaccinatieschade', '\\#nvkp', '\\#rvp', '\\#rijksvaccinatieprogramma', '\\#vaccineinjury', \n",
    "'\\#vaxinjury', '\\#anti-vax']\n",
    "\n",
    "extralist = ['vaccines','coronavirus','corona','covid19','virus','vaccine','covid','covid-19',\\\n",
    "             'covidー19','#covidー19','vaccin','im','covid19','would',\\\n",
    "            'dont', 'year', 'going', 'months', 'first', 'new']"
   ]
  },
  {
   "cell_type": "code",
   "execution_count": 10,
   "metadata": {},
   "outputs": [],
   "source": [
    "import re\n",
    "\n",
    "# Def Remove emoji from string\n",
    "def deEmojify(s):\n",
    "    regrex_pattern = re.compile(pattern = \"[\"\n",
    "        u\"\\U0001F600-\\U0001F64F\"  # emoticons\n",
    "        u\"\\U0001F300-\\U0001F5FF\"  # symbols & pictographs\n",
    "        u\"\\U0001F680-\\U0001F6FF\"  # transport & map symbols\n",
    "        u\"\\U0001F1E0-\\U0001F1FF\"  # flags (iOS)\n",
    "                           \"]+\", flags = re.UNICODE)\n",
    "    return regrex_pattern.sub(r' ',s)\n",
    "\n",
    "\n",
    "# Def remove arabic\n",
    "# According to Wikipedia, Arabic characters fall in the Unicode range 0600 - 06FF. \n",
    "def remove_foreign(s): \n",
    "    arabic_list = re.findall(r'[\\u0600-\\u06FF]+',s)\n",
    "    for w in arabic_list:\n",
    "        s = s.replace(w, \" \")\n",
    "        \n",
    "    chinese_list = re.findall(r'[\\u4e00-\\u9FFF]+',s)\n",
    "    for w in chinese_list:\n",
    "        s = s.replace(w, \" \")\n",
    "        \n",
    "    hindi_list = re.findall(r'[\\u0900-\\u097F]+',s)\n",
    "    for w in hindi_list:\n",
    "        s = s.replace(w, \" \")\n",
    "             \n",
    "    korean_list = re.findall(r'[\\u3040-\\u30ff]+',s)\n",
    "    for w in korean_list:\n",
    "        s = s.replace(w, \" \")\n",
    "              \n",
    "    japanese_list = re.findall(r'[\\u3040-\\u30ff]+',s)\n",
    "    for w in japanese_list:\n",
    "        s = s.replace(w, \" \")\n",
    "        \n",
    "    return(s)\n",
    "\n",
    "\n",
    "def light_preprocessor(s):   \n",
    "    s = s.strip().lower()\n",
    "    s = s.replace('\\n',\" \")\n",
    "    s = s.replace('-', \" \")\n",
    "    s = s.replace('.', \"\")\n",
    "    # Remove hashtags\n",
    "    s = s.replace('#',\"\")\n",
    "    # Remove Emojis\n",
    "    s = deEmojify(s)\n",
    "    # Remove foreign\n",
    "    s = remove_foreign(s)\n",
    "    \n",
    "    s = re.sub(\"\\s+\",\" \",s)\n",
    "    \n",
    "    s = [x for x in s if (x.isalnum() or x == \" \" or x==\"#\" or x==\"@\")]\n",
    "    s = \"\".join(s)\n",
    "    # (Dont) Remove stopwords in english and french\n",
    "    # stop_words = stopwords.words('english') + stopwords.words('french')\n",
    "    s = \" \".join([x for x in s.split() if (#(x not in stop_words) and\n",
    "                                           (x.find('http') == -1) \n",
    "                                           #and (x[0] != '#')\n",
    "                                           and (x[0] != '@') #remove @user\n",
    "                                          and (x != 'amp')\n",
    "                                         and (x not in mininglist1)\n",
    "                                        and (x not in mininglist2)\n",
    "                                    and (x not in extralist)\n",
    "                                          and not(x.isnumeric()))]) # there might be some redundancies with the first line\n",
    "    s = s.replace('/',' ')\n",
    "    \n",
    "    return s"
   ]
  },
  {
   "cell_type": "code",
   "execution_count": 11,
   "metadata": {},
   "outputs": [],
   "source": [
    "# Try processor over n random tweets\n",
    "def try_processor(n=10):\n",
    "    for i in range(n):\n",
    "        random_tweet = choice(list(retweet_dict.values()))\n",
    "        processed_tweet = light_preprocessor(random_tweet['text'])\n",
    "        print(\"This is the unprocessed tweet: \" + str(random_tweet['text']))\n",
    "        print(\"This is the processed tweet: \" + str(processed_tweet))"
   ]
  },
  {
   "cell_type": "code",
   "execution_count": 12,
   "metadata": {},
   "outputs": [
    {
     "name": "stdout",
     "output_type": "stream",
     "text": [
      "This is the unprocessed tweet: Premier essai clinique d'un vaccin contre le coronavirus\n",
      "\n",
      "https://t.co/fBNOzeDkBf https://t.co/pXfjiIJuBR\n",
      "This is the processed tweet: premier essai clinique dun contre le\n",
      "This is the unprocessed tweet: @forwardarc @realDonaldTrump It'll be China that finds and mass produces a vaccine, then billionaire Jack Ma will buy and donate 300 million doses to the American people and we'll all become pro-China and Alibaba customers for life.  It'll be the biggest PR coup in history.\n",
      "This is the processed tweet: itll be china that finds and mass produces a then billionaire jack ma will buy and donate million doses to the american people and well all become pro china and alibaba customers for life itll be the biggest pr coup in history\n",
      "This is the unprocessed tweet: .@moderna_tx , a biotech company based in Cambridge, Mass., has shipped the first batches of its #COVID-19 vaccine. The vaccine was created 42 days after the genetic sequence of the COVID_19 virus was released by Chinese researchers in mid-January.\n",
      "\n",
      "https://t.co/u1mGgVgVx0\n",
      "This is the processed tweet: a biotech company based in cambridge mass has shipped the batches of its the was created days after the genetic sequence of the was released by chinese researchers in mid january\n",
      "This is the unprocessed tweet: “There remains a very long way to go, and I must be frank that a vaccine might not come to fruition.” Two European leaders warn citizens not to expect a coronavirus vaccine anytime soon, if ever. https://t.co/IcSAZ8pKLO\n",
      "This is the processed tweet: there remains a very long way to go and i must be frank that a might not come to fruition two european leaders warn citizens not to expect a anytime soon if ever\n",
      "This is the unprocessed tweet: The last outbreak of smallpox in the US was in 1949. The last naturally spread case in the world was in 1977. A person has a greater chance of winning the lottery or being struck by lightening than contracting smallpox. @aspen_lindsay is safe from smallpox! US stopped vax in 1972\n",
      "This is the processed tweet: the last outbreak of smallpox in the us was in the last naturally spread case in the world was in a person has a greater chance of winning the lottery or being struck by lightening than contracting smallpox is safe from smallpox us stopped in\n",
      "This is the unprocessed tweet: Statistics on deaths and rate of infection are reported by non other than Johns Hopkins, with Bill Gates sharing his vaccine wisdom &amp; that we should down the country.\n",
      "This is the processed tweet: statistics on deaths and rate of infection are reported by non other than johns hopkins with bill gates sharing his wisdom that we should down the country\n",
      "This is the unprocessed tweet: They want to add a micro chip to the vaccine. Yeah right I am going to do this\n",
      "RT @MaryShew: Everyone needs to be aware of this. And this current \"virus\" is their reason to push a worldwide mandated \"vaccine.\" Never will I accept this. https://t.co/hQrENbhRGv\n",
      "This is the processed tweet: they want to add a micro chip to the yeah right i am to do this rt everyone needs to be aware of this and this current is their reason to push a worldwide mandated never will i accept this\n",
      "This is the unprocessed tweet: The only thing more deadly than a corona pandemic will be capitalism.\n",
      "\n",
      "https://t.co/PorabR93z3\n",
      "This is the processed tweet: the only thing more deadly than a pandemic will be capitalism\n",
      "This is the unprocessed tweet: Wow, les commentaires ici sont sublimes. https://t.co/RqQNFXzQjI\n",
      "This is the processed tweet: wow les commentaires ici sont sublimes\n",
      "This is the unprocessed tweet: BOTTOM       LINE      FOLKS. https://t.co/4MReKdIu3K\n",
      "This is the processed tweet: bottom line folks\n"
     ]
    }
   ],
   "source": [
    "try_processor()"
   ]
  },
  {
   "cell_type": "code",
   "execution_count": 13,
   "metadata": {},
   "outputs": [],
   "source": [
    "create_list = False"
   ]
  },
  {
   "cell_type": "code",
   "execution_count": 14,
   "metadata": {},
   "outputs": [],
   "source": [
    "if create_list:\n",
    "    corpus_list = dict()\n",
    "    for c in clusters:\n",
    "        corpus_list[str(c)]=[]\n",
    "\n",
    "    for t in tqdm(retweet_dict):\n",
    "        a = retweet_dict[t]['author']\n",
    "        try:\n",
    "            c = author_to_cluster(a)\n",
    "            if c in clusters:\n",
    "                text = light_preprocessor(retweet_dict[t]['text'])\n",
    "                corpus_list[str(c)].append(text)\n",
    "        except KeyError:\n",
    "            pass"
   ]
  },
  {
   "cell_type": "code",
   "execution_count": 15,
   "metadata": {},
   "outputs": [],
   "source": [
    "def create_corpus(date1,date2):\n",
    "    date1 = datetime.strptime(date1,\"%d/%m/%y\")\n",
    "    date2 = datetime.strptime(date2,\"%d/%m/%y\")\n",
    "    corpus = dict()\n",
    "    for c in clusters:\n",
    "        corpus[str(c)]=\"\"\n",
    "\n",
    "    for t in tqdm(retweet_dict):\n",
    "        a = retweet_dict[t]['author']\n",
    "        try:\n",
    "            c = author_to_cluster(a)\n",
    "            if c in clusters:\n",
    "                rt_date = datetime.strptime(retweet_dict[t]['date'],'%y-%m-%d-%H:%M:%S')\n",
    "                if (date1 <= rt_date) and (rt_date <= date2):\n",
    "                    text = \" \" + light_preprocessor(retweet_dict[t]['text'])\n",
    "                    corpus[str(c)] += text\n",
    "        except KeyError:\n",
    "            pass\n",
    "    return corpus"
   ]
  },
  {
   "cell_type": "code",
   "execution_count": 16,
   "metadata": {},
   "outputs": [
    {
     "data": {
      "text/plain": [
       "{'13': ' the us food and drug administration has approved for the time in the united states a for the prevention of the deadly ebola the agency announced the search for an hiv may soon be over thats it a single dose of hpv may protect against infection a study says this could mean a lot for worldwide coverage rates four beauties visited us recently for puppies foxnews spreads anti vaxxer propaganda measles is not a big deal to me at all measles is a highly contagious airborne and can sometimes be fatal but is highly preventable through weak minded maga love this stuff mog this one was important i reported that a systemic flaw in the way the associated press website was functioning resulted in anti conspiracy theories being published with ap branding which disinfo actors used to their advantage quick facts work we evolved from filthy monkey men climate change is real earth isnt flat religion is cancer gmos are safe everything you eat is a chemical healthcare should be universal public education shouldnt give you debt that follows you into your 30s cervical pre cancer rates down in decade since hpv began findings the internet abounds with misinformation about flu shots making it hard to know what to believe here are common myths about the and a strong dose of science based facts to dispel them louis pasteur born otd in known as the father of microbiology he was a biologist microbiologist chemist discover of the principles of microbial fermentation pasteurization science knows no country because it is the light that iluminates the world col eckmeier no one in this space could do it alone read more about our teamwork with usamriid and in creating the fda approved ebola newinih presentation of late vaccinia proteins in generating a protective cd8 tcell response openaccess immunology vacv dc apc',\n",
       " '48': ' month old baby dies hours after receiving doctor blames sids you blame people for being skeptical of being shot up with for anything trump  i hope you get measles theyre no fun everyone i know whos my age had them but its incorrect to imply measles is a serious disease for most outbreaks are due to unvaccinated people will ensure you get them all of the above accding to cdc are false heard on radio today a dr now saying measles outbreak possible from being at airports over holiday next thing they will be pushing ebola all i can suggest is do not get the r under any circumstances good luck and god speed patriots please share kenya doesnt find gates fake concern for the human race amusing either in september of it was reported that at least young kenyan girls and women have been made sterilefollowing a tetanus administered by the government pushed by organizations in bg pocket why the cdc need a for a that have less than known cases in the entire usa thats less than in every million people have acquired itand all the sudden out of no where lena sun washington post attacks natural health pioneers pimps deadly she is filthy propagandist ciafunded deep statebig pharma makes no on natural remedies congress get less lobbying given to themalways follow the',\n",
       " '6': ' unethical profit power mad villains are in positions of power and influence in govts militaries private security companies and corps around the world it is not unreasonable for the public to demand proof of efficacy and safety of medications treatments and people have been trying to warn about the dangers of for nearly years like to congratulate for their timely immunization response to the polio outbreak in sabah state endpolio with npa we are amid a ten day campaign targeting 450k animals in lakes region responding to animal deaths from diseases like anthrax black quarter cbpp keeps animals alive healthy a big factor in reducing hunger malnutrition its been exactly yrs to the day since our little son was admitted to the hospital to fight his losing battle with a preventable disease please friends remember at least of a community has to be immunized in order to stop massive outbreaks of these diseases gee vaxildan how come your mom lets you have two vestiges of divergence',\n",
       " '49': ' flu during pregnancy not linked to autism no hace falta vacunar a todos sus hijos señor solo a los que quiera conservar lasvacunasfuncionan important donor to anti movement has been cashing in on alternatives to as measles outbreaks surge joseph mercola has amassed a fortune selling natural health productssome of which he claims are alternatives to it is not too late to get the flu around of all flu cases occur in january february and march children of age and up should get the flu to reduce their risk fightflu rt bientôt un pour modifier le microbiote intestinal pour lutter contre les maladies inflammatoires comme la maladie de crohn ou la rectocolite hémorragique étude très encourageante et passionnante de mici just want to point out that if other studies confirm that a single dose of hpv provides effective and long lasting protection we will end up changing the schedule to reflect that with zero regard for mercks profits pentru hepatita c nu există încă cunoaşterea riscurilor de infectare este cheia prevenirii infecţiilor risc mai ridicat de a dezvolta boli hepatice grave este la persoanele cu hiv și coinfecţie cu vhc citiți mai mult despre hepatita c la grippe est contagieuse et se propage rapidement et facilement le antigrippal est sûr et efficace découvrez où obtenir le au those who claim that not vaccinating is a choice should remember that your choice isnt free it costs people their lives vaccinessavelives cdc has a variety of useful materials including this toolkit to help all of us fight flu flu is among the best ways to prevent flu yes last years was only protective overall against contracting flu but studies show that flu is gt80 protective in preventing illness needing icu so even if you get the flu you are much better off studies demonstrate that flu is at least effective in preventing flu deaths in children that doesnt count the protection children get indirectly when their whole family and community get flu this article on measles outbreak in samoa is sad frustrating on many levels the primary one being this was completely preventable ht vaping nicotine is a against cancer heart and lung disease vape shops are health clinics dispensing advice ex smokers helping smokers quit and not relapse to smoking bans and taxes meant to reduce teen vaping will create immense collateral damage heard a terrible story today fit and healthy boy was vaccinated at age and killed in a car crash aged try telling me there is no correlation our tragic normal in america parents with infants lt12 not yet old enough to get their mmr now have to rethink traveling with their children cases of circulating derived polio reported this week two cases in angola one case in car one case in chad and one case in ethiopia over people in south warwickshire remain at risk of flu this christmas because they havent had their flu figures have revealed flu helpushelpyou the childrens flu is offered as a yearly nasal spray to young children to help protect them against flu ask your gp or pharmacist about it today sandwell westbirmingham flu helpushelpyou pharmacist play main in cold chain maintenance and absence of medical officer in phc handle all patientsin phc pharmacist is case writer cum data entry operatorthis is poor value of pharmacist in our eight years of service to the yida community we have provided healthcare services to thousands of people and reduced mortality in children under five years old by providing outbreak response and services lisa jones deputy project coordinator in just years weve gone from no way to prevent ebola to a safe approved were a proud supporter of this remarkable global health effort included in top scientific discoveries the decade to outsmartepidemics لا واہی endpolio learn about plans to contain and prevent future outbreaks of polio the bestof2019 in february zimbabwe was the country in africa to introduce the typhoid fever the supported mass campaign targeted people mostly vulnerable children adolescents community pharmacy contractors now have the go ahead to provide the community pharmacy seasonal influenza advanced service all claims must be made via the manage your service portal visit pharmacyflu pharmacyhour the efforts of farah qamar and aku team and moh sindh buy in made tcv campaign and protection against xdr a reality for so many may the next landmark be improved water and sanitation outcomes for sindh delighted to visit the integrated nursing team at cerne abbas this morning donna tomkins was the winner of the prize draw for flu well done les contre la rougeole dans un contexte de double épidémies meurtrières peuvent se faire correctement grâce à une communication un circuit adapté dr peyraud nous explique les défis de la lutte contre la rougeole dans des zones ebola featured in the round up dr at has found that an experimental against zika reduced the amount of in pregnant rhesus macaques and improved fetal outcomes pharma update us regulators have approved ebola ervebo for more details click happy birthday and great team project fridayfeeling lots of people can get a flu for free including people aged or over people with certain medical conditions pregnant women check if youre eligible today people might be interested to know the loopy qanon peoples newspaper of choice is the epoch times that prints mostly unsubstantiated rubbish scott morrisons bestie quotes it all the time it prints anti trash other nonsense and its a registered charity still it is interesting to not just how far has fallen from his environmental activism days hes now all in with all manner of quacks including one like who promotes dangerous quackery like claiming that cancer is a fungus',\n",
       " '104': ' gardasil side effects healed if your child is suffering from side effects after the gardasil this story will bring you hope here is a true story of recovery read ellie and her mother michelles own words homeopathy hpvvaccine detox oh you like your freedoms you think you have rights you think you have a right to refuse well you must be a fringe right wing trump loving conspiracy theorist then according to why wont this guy debate sen weinberg nj dwants olds to have authority to consent to vaccinesthey cant vote drink or drive legally but let them make a medical decision without their parentsa decision that can affect them for life billion dollars paid out to injured kills2173 extermination assasination they all rhyme funny that also according to merck the may interfere with laboratory tests intended to identify ebola infection rt fda approves mercks live ebola which it says can shed and cause immunosuppression why does an immunocompromised child take precedence over a child who reacted severely to a why is a child who reacts severely to peanuts or antibiotic allowed to never try those products again but a reaction is denied and child is forced to stay on schedule why starting in were there suddenly so many more diseases that were dangerous so many more that were necessary to protect the children was it that manufacturers were no longer liable if their injured you or was that just a coincidence they are preparing for the epidemic they will undoubtedly create most likely ebola since the fda just approved the for it fear control loss of rights i wonder which other states have the bills hitting their legislative floors right now in an interesting coincidence the cdc has issued an advisory on the use of an ebola rapid diagnostic test only days before the announcement of a fda approved ebola with a effectiveness rate dtp oral polio given together increase mortality 5x if dtp is given alone mortality rises 10x learntherisk you support deaths with dengvaxiathe industry is far from perfect no matter how many insults you hurl and speculative claims you make are the only liability free product that are pushed on people we need to bring back liability so that a better product can be created for our kids sign the petition please children should be protected not manufacturers fix1986 wakeup more on bad ass jane burgermeister journovaccine whistleblower in baxter international distributed kilos of material contaminated with live for avian influenza to laboratories in countries bürgermeister pressed charges letter to fbi the pertussis portion of the tdap does not work it just makes you an asymptomatic carrier so people are infected spread the illness without even knowing wakeup learntherisk acquired antibodies are far less protective than naturally acquired antibodies vexit who is harming who look at evidence civilly respect autonomy instead we hear a twisted version of herd immunity to pit people against one another the reality is that remaining unvaccinated in a predominantly protected community exposes the unvaccinated measle just one massive industry report details global measles market by gsk sanofi pasteur merck novartis pfizer serum institute of india id love to get my on this report it only costs to access paywall autism rates in minority populations increase as rates increase pharma saying are safe is about the same as a russia claiming chernobyl is perfectly safe for tourists the cdc admits in a congressional hearing that there are no vs unvaxxed studies its the biggest fraud in medical history cdc whistleblower emerges admits coverup on link to autism in case yall still need some science and facts i know needs to know this means maximized injury and death this paper on systems immunology provides some homework reading prior to my january 6th scientific lecture on the immune system in nj development is based on a science at best years old at worst over years it couldnt be clearer when there is risk there should be choice autism sids are published side effects found in the tripedia dtap manufacturers package insert votenos2173 occupytrentons2173 s2173 the information is right there get the measles and you wont get the measlesor give it to anyone else right well not always a person fully vaccinated against measles has contracted the disease and passed it on to others measles votenos2173 cdc admits million americans received polio contaminated with cancer they also tried to remove the evidence but we have the cache cdciscrooked getgovtoutofhealthcare medicalfreedom votenos2173 these data suggest that there may be an increased incidence of certain cancers among the million persons exposed to contaminated polio in the us cancer votenos2173 recurrent seizures after diphtheria tetanus and pertussis immunization onset less than hours after votenos2173 votenos2173 educationforall parentalrights how many more children must be injured for legislators to stand up and understand that have risks and every child is different cdc who and big pharma collaborate to conceal autism link data from public ebola to be tested on congolese via why is a month old getting in one visit i came across this military schedule in the may congressional records is this one reason so many in our military ultimately are diagnosed with chronic health conditions spanish flu that wasnt spanish spread from horse serum injected at us military base in fort riley kansas all st theresa students are vaccinated doctors are unsure why vaccinated children may still get the disease so just to recap of students fully vaccinated they still caught whooping cough and closed the school work you lost us at mandates sorry but you do not have our support any longer right reckless uncontrollable greed except when it comes to just say no to mandates to make pharma i will walkaway until dems recognizes the importance of medicalfreedom why on gods green earth do we need an ebola in america the disease doesnt even live here and is only brought in from other countries oh wait i forgot theyre trying to kill off a huge percent of the human population well this should do it ebola in usa are we really ready for this live attenuated i think not the same industry behind the opioid crisis is now behind a push to remove parental rights and mandate liability free pharmaceutical drugs without proper safety testing lets repeal the injury act that removed liability for injuries then why are you pushing mandates pharma must have you in their pocket what happened to bodily autonomy and my body my right hpv help pay for vioxx rfk jr bombshell reveal on internal merck documents show disgusting predatory practices are under vaccinated or unvaccinated children a health hazard physicians4informedconsent 1stdonoharm informedconsent science statistics picphysicians why should pharma have it both waysno liability because they are unavoidably unsafe yet mandatory because they are safe and effective doesnt acknowledge religious or human rights bodily autonomy orpol orleg liberty vaccineeducation washington post attacks barbara loe fisher and dr joseph mercola to sway public opinion on mmr how do we know which are truly mercury free when there is no independent testing and no oversight how do we know whats even in a when theres no independent testing and no oversight merck has received the fdas fast tracked approval of a live genetically modified ebola which according to its insert can cause a novel form of ebola type infection resulting in immunosuppression and possible shedding of live to others fda approves mercks live ebola which it says can shed and cause immunosuppression can someone tell me why education ministry here injects hep b to our kids do they think our school kids are prostitutes they are also banning cryptocurrency information they are deleting anything alternative to globalism and the globohomo agendaincluding crypto info huntingbushcraft holistic natural healthanti vaccineanti big pharma gun channels ofcourse political dissent measles cases still rising despite the massive agenda i have seen babies in my news feed this week in the same scenario injury is real not rare beside economic invasion the world need to be aware of the safety of the medical product by ccp its the same story over and over again baby goes in for routine visits baby is fussynot the same after less than a week and the baby is dead oh and the pro apologists defending the practice shaming those who actually demand justice for this murder pushing maggots geweldig idee verplicht jarigen om tegen sexueel overdraagbaar hiv in te spuiten ikvaccineer niet votenos2173 s2173 occupytrentons2173 killthebill newjersey bipartisan protectreligiousfreedom votenos2173 occupytrentons2173 senator liu looked down into the eyes of a very young girl in front of him and said well does your mom know every single thing about you poised to back vaccinating drugging ny children for stds without parental knowledge this explains the clinton obsession there is always money involved and whatever they touch is questionable the clinton foundation is currently jockeying to become the largest distributor of in all of africa get ready for non stop ebola scare batten down the hatches mike a ca attorney too so not some dumb anti vaxxer i was pro until my wk old preemie developed induced encephalitis from dtap we need safer and until then they simply cannot be mandated oh and hotez is a dick failure and failure to vaccinate are not the same thing look beyond the headlines i was just assessing the mind blowing evidence that illustrate major risks corruption thats why they now are trying to mandate were on to the depopulation agenda many have known it for years but now we stand together injuries are not extremely rare and to claim they are is dishonest there is no test to tell if you or your children are sensitive take the risk of ruining their life or yours download the free app get the full inserts that doctors wont give you android apple courts quietly confirm mmr causes autism not everyone whos crazy is a shill some may just be deluded or ignorant others may find the guilt insupportable of being complicit in the injury or death of a child and so they seek to absolve themselves of blame by pretending that are not to blame oppose s2173 resistancenj killbills2173 oppose s2173 resistancenj killbills2173 oppose s2173 resistancenj killbills2173 s1003 force employees at nj health care facilities to take this toxic gamble every flu shots are regularly an epic fail they render recipients 5x more vulnerable to other respiratory infections life saving thats a pretty incomplete understanding of the effect have on the human immune system measles incidence please note incidence had already dropped below cases per pop before any was introduced all of these conditions are listed in inserts for various looks like lots of people are being injured by their theres so much overlap in rhetoric between pushers and pedophiles guess he should watch cnn don lemons interview with the neurologist dad to injured autism suffering hannah poling profile of a cia funded propagandist lena sun at the washington post attacks natural health pioneers while pimping deadly so very tragic sad when i see a mom whose child had the flu shot died of the flu but they are all over twitter telling everyone to get their shot including parents of injured no my md i know the flu shot doesnt work is ineffective dangerous no we wont hpvvaccine he died as a direct result of the hpv mother of dead teenager speaks out gardasil also called hpv gardasil also called the hpv hpv gardasil injuries gardasil also called the hpv can have devastating dangerous and horrific side effects educate before you vaccinate especially this one dark side of the hpvvaccine marcella on gardasil educate yourself on this one france he died as a direct result of the hpv mother of dead teenager speaks out when merck warns its can cause encephalitis encephalitisis most commonly due to viruses it can occur in the following ways a or triggers a reaction that makes the immune system attack brain tissue an autoimmune reaction question what precedes outbreaks of all illnesses answer mass campaigns tick tock gail gqfb no kidding vaxpushers claim protect children but account for an astounding of adverse drug events which bring children under to the emergency room now we are attacking waldorf education wow public schools are failing our children not waldorf schools if work so well why are you afraid of the unvaccinated must be because they are a false sense of security here is a nice letter from a school with rate instead of having a real conversation or public debate on the merits of the medias darling dr is calling to dismantle and deplatform all films books websites and social media speaking about the risks of or corruption in government 1a wow he considers freedom and parental rights as anti dog whistles these are scary times and the fact that people think those are negatives is even scarier tuberculosistbpneumoniapinfluenzai were biggest killers in 181900s killing x more ppl than typhoidscarlet whooping measles by late 1930s tb no mass bcg by pneumonia gt p by influenza gt i smoke mirrors the disappearance of polio by suzanne humphries md in salk released polio diagnosis criteria redefined disappear thousands cases of polio paralysis which had no poliovirus in their systems salk hailed success dothestudy national childhood injury act removed liability from the pharmaceutical companies hhs has failed to do safety tests or reporting to congress every two years as stipulated in the act per foia request and subsequent law suit 3nuremberg code years ago i knew someone who was a whistleblower that worked for the manufacturers of who told me that the suits came to the scientists told them to fabricate their findings on the safety of in order to pass the fda bill gates mit develop tattoo id to check for immunization with hepatitis b accelerates sle like disease in a murine mouse model our data support the concept that different component of may be linked with immune and autoimmune mediated adverse events bigbrother constitution could have backlash oh boy now a shedding for ebola wake up france europe learn from these experiences educate yourself before mandating this horrific hpv gardasil stories hannah robinson the hpv can cause very serious side effects also called gardasil shots never take it i said wait a minute and yes we found out that everything that happened to our son was aligned to the and second hpv france europe wake up france europe learn from these experiences educate yourself before mandating this horrific hpv gardasil le gardasil en france inutile et dangereux via isnt it weird that out of any disease to pretend is like the plague they pick measlesi mean they pick the one which has been most linked to autism and one of the two they got sued over for providing fraudulent data to the fda there has got to be something to that we pay for injuries via tax of and the cap for death is but research hannah poling her family received million for autism informeer jezelf en anderen over hoe hpv het grootste schandaal ooit gaat worden vuile vieze bigpharma maffia  can you provide a link to your explanation for retracting the delong article which showed lower pregnancy rates following hpv people are concerned that the retraction was unethically done to hide an adverse effect signal to maintain sales bill gates mit develop tattoo id to check for if you have your tattoo then its off with your head or off to a doctor to be injected with by force we are all pro vaxxers until we do the research or witness the adverse reactions utter nonsense to accuse anti vaxxers of campaigning to prevent others having they are campaigning to prevent forced usually because they are educated i know a number of children who became very ill after even disabled',\n",
       " '57': ' trauer und wut bei diesem foto mais doù tu peux dire que les vaccins sont dispensés de surveillance épidémiologiques et de pharmacovigilance à part dune posture exclusive a ladoption un nouveau chiot perle adorable petite noire croisée labrador identifiée vaccinée stérilisée prochainement la pharmacovigilance est inopérante voire inexistante les scandales éclatent tjs à postériori pour ne parler que des nanos dioxyde de ti ou de si de la moitié des médocs devraient être suspendus lalu du maalox phosphalugel idem sinon alzheimer parkinsonpour tous pour un moratoire indépendant sur la généralisation du gardasil loin de tous conflits d intérêts the neovacs study shows that the is perfectly effective with the lldas evaluation i hope that the health authorities will accept lldas as primary endpoint and that a partner will quickly come to save neovacs neovacs ansm létude de neovacs démontre que le est parfaitement efficace avec lévaluation lldas vivement que lansm rende un avis positif cest urgent nous célébrons aujourdhui lanniversaire de naissance de louis pasteur fondateur de l@institutpasteur et découvreur du contre la rage',\n",
       " '85': '',\n",
       " '80': ' apart from the cash benefits migrants take from the uk economy why the nhs tell the public about the diseases those same migrants bring with them to spread among their friends diseases that were eradicated through yet are now back in our midst'}"
      ]
     },
     "execution_count": 16,
     "metadata": {},
     "output_type": "execute_result"
    }
   ],
   "source": [
    "# Testing\n",
    "test = create_corpus('26/12/19','28/12/19')\n",
    "test"
   ]
  },
  {
   "cell_type": "code",
   "execution_count": 17,
   "metadata": {},
   "outputs": [],
   "source": [
    "# clusters we care about\n",
    "clusters = [13,48,6,49,104,57,85,80]\n",
    "cluster_names = ['Democrats',\"Maga\",\"Socialists\",\"Health\",\"Antivaxers\",\"French\",\"Indian\",\"FreedomUK\"]\n",
    "\n",
    "complete_corpus = create_corpus('26/12/19','27/05/20')\n",
    "pre_corpus = create_corpus('26/12/19','11/03/20')\n",
    "post_corpus = create_corpus('11/03/20','27/05/20')\n",
    "\n",
    "for i in range(len(clusters)):\n",
    "    text_file = open(str(cluster_names[i]) + \"_full\" + \".txt\", \"w\",encoding='utf8')\n",
    "    text_file.write(complete_corpus[str(clusters[i])])\n",
    "    text_file.close()\n",
    "    text_file = open(str(cluster_names[i]) + \"_pre\" + \".txt\", \"w\",encoding='utf8')\n",
    "    text_file.write(pre_corpus[str(clusters[i])])\n",
    "    text_file.close()\n",
    "    text_file = open(str(cluster_names[i]) + \"_post\" + \".txt\", \"w\",encoding='utf8')\n",
    "    text_file.write(post_corpus[str(clusters[i])])\n",
    "    text_file.close()\n"
   ]
  },
  {
   "cell_type": "code",
   "execution_count": 18,
   "metadata": {},
   "outputs": [
    {
     "name": "stdout",
     "output_type": "stream",
     "text": [
      "35987.710688114166\n"
     ]
    }
   ],
   "source": [
    "elapsed_time = time.time() - start_time\n",
    "print(elapsed_time)"
   ]
  },
  {
   "cell_type": "code",
   "execution_count": null,
   "metadata": {},
   "outputs": [],
   "source": []
  }
 ],
 "metadata": {
  "kernelspec": {
   "display_name": "Python 3",
   "language": "python",
   "name": "python3"
  },
  "language_info": {
   "codemirror_mode": {
    "name": "ipython",
    "version": 3
   },
   "file_extension": ".py",
   "mimetype": "text/x-python",
   "name": "python",
   "nbconvert_exporter": "python",
   "pygments_lexer": "ipython3",
   "version": "3.7.3"
  }
 },
 "nbformat": 4,
 "nbformat_minor": 2
}
