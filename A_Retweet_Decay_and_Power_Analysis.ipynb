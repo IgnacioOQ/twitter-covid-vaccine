{
 "cells": [
  {
   "cell_type": "markdown",
   "metadata": {},
   "source": [
    "## 0. Setup"
   ]
  },
  {
   "cell_type": "code",
   "execution_count": 1,
   "metadata": {},
   "outputs": [],
   "source": [
    "import pickle\n",
    "from itertools import combinations\n",
    "import pprint\n",
    "import json\n",
    "import glob\n",
    "from random import random, randrange\n",
    "from datetime import datetime, timedelta\n",
    "import itertools\n",
    "from collections import defaultdict\n",
    "import networkx as nx\n",
    "import numpy\n",
    "import time\n",
    "import scipy\n",
    "import mpmath\n",
    "import numpy as np\n",
    "import pandas as pd\n",
    "import random\n",
    "import powerlaw\n",
    "import matplotlib.mlab as mlab\n",
    "import matplotlib.pyplot as plt\n",
    "from matplotlib.pylab import plot\n",
    "\n",
    "from tqdm import trange, tqdm\n",
    "\n",
    "%matplotlib inline"
   ]
  },
  {
   "cell_type": "code",
   "execution_count": 2,
   "metadata": {},
   "outputs": [],
   "source": [
    "start_time = time.time()"
   ]
  },
  {
   "cell_type": "code",
   "execution_count": 3,
   "metadata": {},
   "outputs": [],
   "source": [
    "# Load the data\n",
    "f = open('pruned_retweet_dict','rb')\n",
    "retweet_dict = pickle.load(f)\n",
    "f.close()"
   ]
  },
  {
   "cell_type": "code",
   "execution_count": 4,
   "metadata": {},
   "outputs": [
    {
     "data": {
      "text/plain": [
       "1271425"
      ]
     },
     "execution_count": 4,
     "metadata": {},
     "output_type": "execute_result"
    }
   ],
   "source": [
    "len(retweet_dict)"
   ]
  },
  {
   "cell_type": "markdown",
   "metadata": {},
   "source": [
    "## 1. Decay Analysis and Distribution"
   ]
  },
  {
   "cell_type": "code",
   "execution_count": 5,
   "metadata": {},
   "outputs": [],
   "source": [
    "# Given a tweet, find the latest retweet for it\n",
    "# substract time latest retweet to time of tweet, to get a time_span\n",
    "# and return [tweet_id,time_span]\n",
    "def tweet_span(t):\n",
    "    authored_date = datetime.strptime(retweet_dict[t]['date'],'%y-%m-%d-%H:%M:%S')\n",
    "    retweet_list = retweet_dict[t]['rt_list']\n",
    "    retweet_list.sort(key=lambda x: datetime.strptime(x[1], '%y-%m-%d-%H:%M:%S'), reverse=True)\n",
    "    latest_retweet_date = datetime.strptime(retweet_list[0][1],'%y-%m-%d-%H:%M:%S')\n",
    "    time_span = latest_retweet_date - authored_date\n",
    "    # Now in hours\n",
    "    s1 = time_span.seconds\n",
    "    s2 = time_span.days*24*60*60\n",
    "    time = s1 + s2\n",
    "    return([t,time])"
   ]
  },
  {
   "cell_type": "code",
   "execution_count": 6,
   "metadata": {},
   "outputs": [],
   "source": [
    "recompute = False"
   ]
  },
  {
   "cell_type": "code",
   "execution_count": 7,
   "metadata": {},
   "outputs": [
    {
     "name": "stderr",
     "output_type": "stream",
     "text": [
      "  0%|          | 876/1271425 [00:00<02:26, 8694.17it/s]"
     ]
    },
    {
     "name": "stdout",
     "output_type": "stream",
     "text": [
      "16.24827742576599\n"
     ]
    },
    {
     "name": "stderr",
     "output_type": "stream",
     "text": [
      "100%|██████████| 1271425/1271425 [02:50<00:00, 7460.78it/s] \n"
     ]
    },
    {
     "name": "stdout",
     "output_type": "stream",
     "text": [
      "170.9027750492096\n"
     ]
    }
   ],
   "source": [
    "# Now we store data for all tweets\n",
    "if recompute:\n",
    "    elapsed_time = time.time() - start_time\n",
    "    print(elapsed_time)\n",
    "\n",
    "    full_data = []\n",
    "    time_data = []\n",
    "\n",
    "    for t in tqdm(retweet_dict):\n",
    "        data = tweet_span(t)\n",
    "        full_data.append(data)\n",
    "\n",
    "    full_data = np.array(full_data)\n",
    "    df = pd.DataFrame(data=full_data, columns=[\"Tweet_id\", \"sec_span\"])\n",
    "    f = open(\"tweet_secspan.pkl\",\"wb\")\n",
    "    pickle.dump(df,f)\n",
    "    \n",
    "    elapsed_time2 = time.time() - start_time\n",
    "    elapsed_time2 = elapsed_time2 - elapsed_time\n",
    "    print(elapsed_time2)"
   ]
  },
  {
   "cell_type": "code",
   "execution_count": 8,
   "metadata": {},
   "outputs": [],
   "source": [
    "# We need some basic pruning to even visualize it intelligibly\n",
    "def reject_outliers(data, m=2):\n",
    "    return data[abs(data - np.mean(data)) < m * np.std(data)]\n",
    "\n",
    "def seconds_to_hs(data):\n",
    "    return data/3600\n",
    "\n",
    "with open('tweet_secspan.pkl', 'rb') as f:\n",
    "    data = pickle.load(f)\n",
    "    \n",
    "time_span = data[['sec_span']]\n",
    "\n",
    "pruned_time_data = reject_outliers(time_span).dropna()\n",
    "pruned_time_data = seconds_to_hs(pruned_time_data)\n",
    "pruned_time_data = pruned_time_data.to_numpy()\n",
    "# displace it a bit for visualization and power law fit later\n",
    "pruned_time_data = pruned_time_data + 0.1"
   ]
  },
  {
   "cell_type": "code",
   "execution_count": 9,
   "metadata": {},
   "outputs": [
    {
     "name": "stdout",
     "output_type": "stream",
     "text": [
      "[[90.13664680291893, 44], [91.09859327305769, 49], [92.05820472623536, 56], [93.05292195165549, 66], [94.073163327995, 77], [95.00596234503338, 93], [96.02958547007515, 113], [97.01488210982471, 139], [98.0285210244122, 171], [99.01091902241697, 219]]\n"
     ]
    }
   ],
   "source": [
    "# Now lets look for the % intervals in hours\n",
    "\n",
    "def find_hs_break(percent):\n",
    "    hs = 1\n",
    "    while True:\n",
    "        subset = pruned_time_data[pruned_time_data<hs]\n",
    "        actual_percent = len(subset)*100/len(pruned_time_data)\n",
    "        if actual_percent < percent:\n",
    "            hs += 1\n",
    "        else:      \n",
    "            break\n",
    "    return([actual_percent,hs])\n",
    "\n",
    "data = []\n",
    "for percent in [*range(90,100,1)]:\n",
    "    data.append(find_hs_break(percent))\n",
    "    \n",
    "print(data)\n",
    "\n",
    "# So 90% decay in 56hs, 94% decay in 120hs (5 days) and so on"
   ]
  },
  {
   "cell_type": "code",
   "execution_count": 10,
   "metadata": {},
   "outputs": [
    {
     "data": {
      "image/png": "[encoded data removed]",
      "text/plain": [
       "<Figure size 432x288 with 1 Axes>"
      ]
     },
     "metadata": {
      "needs_background": "light"
     },
     "output_type": "display_data"
    }
   ],
   "source": [
    "# Now lets plot the decay within 44hs (90%)\n",
    "num_bins = 80\n",
    "data = pruned_time_data[pruned_time_data<45]\n",
    "\n",
    "plt.hist(data, num_bins, color='red')\n",
    "plt.xlabel('Hours')\n",
    "plt.ylabel('Frequency')\n",
    "plt.title(\"Tweet Decay - 90%\")\n",
    "plt.show()\n"
   ]
  },
  {
   "cell_type": "code",
   "execution_count": 11,
   "metadata": {},
   "outputs": [
    {
     "name": "stderr",
     "output_type": "stream",
     "text": [
      "Calculating best minimal value for power law fit\n",
      "C:\\Users\\u1085188\\AppData\\Local\\Continuum\\anaconda3\\lib\\site-packages\\powerlaw.py:700: RuntimeWarning: invalid value encountered in true_divide\n",
      "  (Theoretical_CDF * (1 - Theoretical_CDF))\n"
     ]
    },
    {
     "name": "stdout",
     "output_type": "stream",
     "text": [
      "alpha is: 4.417544467703715\n",
      "xmin is: 21.03388888888889\n",
      "p is: 0.0\n"
     ]
    }
   ],
   "source": [
    "# Indeed we can do some kind of power law analysis\n",
    "# https://pypi.org/project/powerlaw/\n",
    "# https://journals.plos.org/plosone/article/file?id=10.1371/journal.pone.0085777&type=printable\n",
    "\n",
    "results = powerlaw.Fit(pruned_time_data[pruned_time_data<45])\n",
    "print(\"alpha is: \" + str(results.power_law.alpha))\n",
    "print(\"xmin is: \" + str(results.power_law.xmin))\n",
    "R, p = results.distribution_compare('power_law', 'lognormal')\n",
    "print(\"p is: \" + str(p))"
   ]
  },
  {
   "cell_type": "code",
   "execution_count": 12,
   "metadata": {},
   "outputs": [
    {
     "data": {
      "text/plain": [
       "<matplotlib.axes._subplots.AxesSubplot at 0x28c5e77b550>"
      ]
     },
     "execution_count": 12,
     "metadata": {},
     "output_type": "execute_result"
    },
    {
     "data": {
      "image/png": "[encoded data removed]",
      "text/plain": [
       "<Figure size 432x288 with 1 Axes>"
      ]
     },
     "metadata": {
      "needs_background": "light"
     },
     "output_type": "display_data"
    }
   ],
   "source": [
    "# https://journals.plos.org/plosone/article?id=10.1371/journal.pone.0085777\n",
    "\n",
    "\n",
    "powerlaw.plot_pdf(pruned_time_data,color='r')\n"
   ]
  },
  {
   "cell_type": "code",
   "execution_count": 13,
   "metadata": {},
   "outputs": [],
   "source": [
    "?powerlaw.plot_pdf"
   ]
  },
  {
   "cell_type": "markdown",
   "metadata": {},
   "source": [
    "## 2. Retweet Analysis and Distribution\n",
    "\n",
    "I.e. How often are tweets retweeted?\n",
    "\n",
    "Does it follow some kind of power law distribution?"
   ]
  },
  {
   "cell_type": "code",
   "execution_count": 14,
   "metadata": {},
   "outputs": [
    {
     "name": "stderr",
     "output_type": "stream",
     "text": [
      "100%|██████████| 1271425/1271425 [00:15<00:00, 82413.45it/s] \n",
      "  1%|          | 8059/1271425 [00:00<00:15, 80469.21it/s]"
     ]
    },
    {
     "name": "stdout",
     "output_type": "stream",
     "text": [
      "Tweets retweeted a.l. 0-times: 1271425\n"
     ]
    },
    {
     "name": "stderr",
     "output_type": "stream",
     "text": [
      "100%|██████████| 1271425/1271425 [00:04<00:00, 269604.89it/s]\n",
      " 13%|█▎        | 166484/1271425 [00:00<00:00, 1652787.43it/s]"
     ]
    },
    {
     "name": "stdout",
     "output_type": "stream",
     "text": [
      "Tweets retweeted a.l. 1-times: 1271425\n"
     ]
    },
    {
     "name": "stderr",
     "output_type": "stream",
     "text": [
      "100%|██████████| 1271425/1271425 [00:00<00:00, 1494472.58it/s]\n",
      " 13%|█▎        | 171358/1271425 [00:00<00:00, 1700788.11it/s]"
     ]
    },
    {
     "name": "stdout",
     "output_type": "stream",
     "text": [
      "Tweets retweeted a.l. 2-times: 642520\n"
     ]
    },
    {
     "name": "stderr",
     "output_type": "stream",
     "text": [
      "100%|██████████| 1271425/1271425 [00:00<00:00, 1544693.70it/s]\n",
      " 13%|█▎        | 161524/1271425 [00:00<00:00, 1606462.93it/s]"
     ]
    },
    {
     "name": "stdout",
     "output_type": "stream",
     "text": [
      "Tweets retweeted a.l. 3-times: 440088\n"
     ]
    },
    {
     "name": "stderr",
     "output_type": "stream",
     "text": [
      "100%|██████████| 1271425/1271425 [00:00<00:00, 1456206.03it/s]"
     ]
    },
    {
     "name": "stdout",
     "output_type": "stream",
     "text": [
      "Tweets retweeted a.l. 4-times: 338593\n"
     ]
    },
    {
     "name": "stderr",
     "output_type": "stream",
     "text": [
      "\n"
     ]
    }
   ],
   "source": [
    "# Lets first take a look at a simple count\n",
    "def disregard_tweets(n):\n",
    "    tweets = []\n",
    "    for t in tqdm(retweet_dict):    \n",
    "        if len(retweet_dict[t]['rt_list'])>n-1:\n",
    "            tweets.append(t)\n",
    "    return(tweets)\n",
    "\n",
    "for i in range(5):\n",
    "    print(\"Tweets retweeted a.l. \" + str(i) + \"-times: \" + str(len(disregard_tweets(i))))"
   ]
  },
  {
   "cell_type": "code",
   "execution_count": 15,
   "metadata": {},
   "outputs": [],
   "source": [
    "# Given a tweet, find the amount of retweets that it had \n",
    "# and return [tweet_id,retweet_count]\n",
    "def retweet_count(t):\n",
    "    count = len(retweet_dict[t]['rt_list'])\n",
    "    return([t,count])"
   ]
  },
  {
   "cell_type": "code",
   "execution_count": 16,
   "metadata": {},
   "outputs": [
    {
     "name": "stderr",
     "output_type": "stream",
     "text": [
      "\r",
      "  0%|          | 0/1271425 [00:00<?, ?it/s]"
     ]
    },
    {
     "name": "stdout",
     "output_type": "stream",
     "text": [
      "278.5843937397003\n"
     ]
    },
    {
     "name": "stderr",
     "output_type": "stream",
     "text": [
      "100%|██████████| 1271425/1271425 [00:38<00:00, 33199.87it/s] \n"
     ]
    },
    {
     "name": "stdout",
     "output_type": "stream",
     "text": [
      "38.875978231430054\n"
     ]
    }
   ],
   "source": [
    "# Now we store data for all tweets\n",
    "if recompute:\n",
    "    elapsed_time = time.time() - start_time\n",
    "    print(elapsed_time)\n",
    "\n",
    "    full_retweet_data = []\n",
    "    count_retweet_data = []\n",
    "\n",
    "    for t in tqdm(retweet_dict):\n",
    "        data = retweet_count(t)\n",
    "        full_retweet_data.append(data)\n",
    "\n",
    "    full_retweet_data = np.array(full_retweet_data)\n",
    "    df = pd.DataFrame(data=full_retweet_data, columns=[\"Tweet_id\", \"tweet_retweets\"])\n",
    "    f = open(\"tweet_retweet.pkl\",\"wb\")\n",
    "    pickle.dump(df,f)\n",
    "    \n",
    "    elapsed_time2 = time.time() - start_time\n",
    "    elapsed_time2 = elapsed_time2 - elapsed_time\n",
    "    print(elapsed_time2)"
   ]
  },
  {
   "cell_type": "code",
   "execution_count": 17,
   "metadata": {},
   "outputs": [],
   "source": [
    "# We need some basic pruning to even visualize it intelligibly\n",
    "with open('tweet_retweet.pkl', 'rb') as f:\n",
    "    data = pickle.load(f)\n",
    "    \n",
    "retweet_count = data[['tweet_retweets']]\n",
    "\n",
    "pruned_retweet_count = reject_outliers(retweet_count).dropna()\n",
    "pruned_retweet_count = pruned_retweet_count.to_numpy()\n"
   ]
  },
  {
   "cell_type": "code",
   "execution_count": 18,
   "metadata": {},
   "outputs": [
    {
     "name": "stdout",
     "output_type": "stream",
     "text": [
      "[[81.56163882530254, 6], [81.56163882530254, 6], [83.90151156851246, 7], [83.90151156851246, 7], [85.67328490260252, 8], [85.67328490260252, 8], [87.06251537108156, 9], [87.06251537108156, 9], [88.186417324076, 10], [89.10458326238988, 11], [90.54875549417633, 13], [91.1263928564672, 14], [92.07711395725735, 16], [93.16806661747921, 19], [94.21984272624655, 23], [95.13438266583427, 28], [96.02495948340554, 35], [97.02147852462842, 48], [98.00128644128719, 72], [99.0017467854733, 136]]\n"
     ]
    }
   ],
   "source": [
    "# Now lets look for the % intervals in retweets\n",
    "\n",
    "def find_retweet_break(percent):\n",
    "    retweets = 1\n",
    "    while True:\n",
    "        subset = pruned_retweet_count[pruned_retweet_count<retweets]\n",
    "        actual_percent = len(subset)*100/len(pruned_retweet_count)\n",
    "        if actual_percent < percent:\n",
    "            retweets += 1\n",
    "        else:      \n",
    "            break\n",
    "    return([actual_percent,retweets])\n",
    "\n",
    "data = []\n",
    "for percent in [*range(80,100,1)]:\n",
    "    data.append(find_retweet_break(percent))\n",
    "    \n",
    "print(data)\n",
    "\n",
    "# So 90% of tweets were retweeted <= 13 times, \n",
    "# 95% of tweets were retweeted <= 29 times, "
   ]
  },
  {
   "cell_type": "code",
   "execution_count": 19,
   "metadata": {},
   "outputs": [
    {
     "data": {
      "image/png": "[encoded data removed]",
      "text/plain": [
       "<Figure size 432x288 with 1 Axes>"
      ]
     },
     "metadata": {
      "needs_background": "light"
     },
     "output_type": "display_data"
    }
   ],
   "source": [
    "# Now lets plot the data within 13 retweets (90%)\n",
    "plt.hist(pruned_retweet_count[pruned_retweet_count<14], 14, facecolor='red')\n",
    "plt.xlabel('Retweets')\n",
    "plt.ylabel('Count')\n",
    "plt.title(\"Retweet Count for 95% of Tweets\")\n",
    "plt.show()\n",
    "\n",
    "# Super power law like"
   ]
  },
  {
   "cell_type": "code",
   "execution_count": 20,
   "metadata": {},
   "outputs": [
    {
     "name": "stderr",
     "output_type": "stream",
     "text": [
      "Calculating best minimal value for power law fit\n",
      "C:\\Users\\u1085188\\AppData\\Local\\Continuum\\anaconda3\\lib\\site-packages\\powerlaw.py:700: RuntimeWarning: invalid value encountered in true_divide\n",
      "  (Theoretical_CDF * (1 - Theoretical_CDF))\n"
     ]
    },
    {
     "name": "stdout",
     "output_type": "stream",
     "text": [
      "alpha is: 2.8053755227945945\n",
      "xmin is: 2.0\n",
      "p is: 1.8037587797196535e-29\n"
     ]
    }
   ],
   "source": [
    "# Indeed we can do some kind of power law analysis\n",
    "# https://pypi.org/project/powerlaw/\n",
    "\n",
    "results = powerlaw.Fit(pruned_retweet_count[pruned_retweet_count<14])\n",
    "print(\"alpha is: \" + str(results.power_law.alpha))\n",
    "print(\"xmin is: \" + str(results.power_law.xmin))\n",
    "R, p = results.distribution_compare('power_law', 'lognormal')\n",
    "print(\"p is: \" + str(p))"
   ]
  },
  {
   "cell_type": "markdown",
   "metadata": {},
   "source": [
    "## 3. Author Retweet and Tweet Analysis\n",
    "\n",
    "Do author's retweets also have a power law distribution?\n",
    "Im doing it as exploratory because it does not involve much innovation\n",
    "\n",
    "To each author we attribute the total amount of retweets they got"
   ]
  },
  {
   "cell_type": "code",
   "execution_count": 21,
   "metadata": {},
   "outputs": [],
   "source": [
    "# Generate author set\n",
    "rt_author_set = set()\n",
    "for a in retweet_dict:\n",
    "    rt_author_set.add(retweet_dict[a]['author'])"
   ]
  },
  {
   "cell_type": "code",
   "execution_count": 22,
   "metadata": {},
   "outputs": [
    {
     "name": "stderr",
     "output_type": "stream",
     "text": [
      "100%|██████████| 1271425/1271425 [00:03<00:00, 419075.51it/s]\n"
     ]
    }
   ],
   "source": [
    "# Generate a dictionary with author data\n",
    "author_data = dict()\n",
    "for author in rt_author_set:\n",
    "    author_data[str(author)] = np.zeros(8)\n",
    "\n",
    "# [retweets, tweets,...]\n",
    "\n",
    "# Retweet and Tweet counts\n",
    "for t in tqdm(retweet_dict):  \n",
    "    author=retweet_dict[t]['author']\n",
    "    author_data[author][0] += retweet_dict[t]['rt_count']\n",
    "    author_data[author][1] += 1"
   ]
  },
  {
   "cell_type": "code",
   "execution_count": 23,
   "metadata": {},
   "outputs": [],
   "source": [
    "retweets = []\n",
    "tweets = []\n",
    "for author in author_data:  \n",
    "    retweets.append(author_data[author][0])\n",
    "    tweets.append(author_data[author][1])\n",
    "    \n",
    "retweets = np.array(retweets)\n",
    "tweets = np.array(tweets)"
   ]
  },
  {
   "cell_type": "markdown",
   "metadata": {},
   "source": [
    "### For Retweets"
   ]
  },
  {
   "cell_type": "code",
   "execution_count": 24,
   "metadata": {},
   "outputs": [
    {
     "name": "stdout",
     "output_type": "stream",
     "text": [
      "[[90.11876937931912, 19], [91.17641004721209, 22], [92.20411042726661, 26], [93.03233363959752, 30], [94.07930807994805, 37], [95.0624722818429, 47], [96.04432659614481, 63], [97.00260293377396, 90], [98.00597682995975, 150], [99.000555766593, 359]]\n"
     ]
    }
   ],
   "source": [
    "# Now lets look for the % intervals in retweets\n",
    "def find_retweet_break(percent):\n",
    "    ret = 1\n",
    "    while True:\n",
    "        subset = retweets[retweets<ret]\n",
    "        actual_percent = len(subset)*100/len(retweets)\n",
    "        if actual_percent < percent:\n",
    "            ret += 1\n",
    "        else:      \n",
    "            break\n",
    "    return([actual_percent,ret])\n",
    "\n",
    "rt_data = []\n",
    "for percent in [*range(90,100,1)]:\n",
    "    rt_data.append(find_retweet_break(percent))\n",
    "    \n",
    "print(rt_data)\n",
    "\n",
    "# So 90% of authors were retweeted <= 19 times, \n",
    "# 95% of authors were retweeted <= 47 times, "
   ]
  },
  {
   "cell_type": "code",
   "execution_count": 25,
   "metadata": {},
   "outputs": [
    {
     "data": {
      "image/png": "[encoded data removed]",
      "text/plain": [
       "<Figure size 432x288 with 1 Axes>"
      ]
     },
     "metadata": {
      "needs_background": "light"
     },
     "output_type": "display_data"
    }
   ],
   "source": [
    "# Now lets plot the decay within 47 retweets (95%)\n",
    "plt.hist(retweets[retweets<48], 150, facecolor='red')\n",
    "plt.xlabel('Retweets')\n",
    "plt.ylabel('Count')\n",
    "plt.title(\"Author Retweet Count\")\n",
    "plt.show()\n",
    "\n",
    "# Super power law like"
   ]
  },
  {
   "cell_type": "code",
   "execution_count": 26,
   "metadata": {},
   "outputs": [
    {
     "name": "stderr",
     "output_type": "stream",
     "text": [
      "Calculating best minimal value for power law fit\n"
     ]
    },
    {
     "name": "stdout",
     "output_type": "stream",
     "text": [
      "alpha is: 2.1885876135425097\n",
      "xmin is: 3.0\n",
      "p is: 1.9667641660108692e-199\n"
     ]
    }
   ],
   "source": [
    "# Indeed we can do some kind of power law analysis\n",
    "# https://pypi.org/project/powerlaw/\n",
    "\n",
    "results = powerlaw.Fit(retweets[retweets<48])\n",
    "print(\"alpha is: \" + str(results.power_law.alpha))\n",
    "print(\"xmin is: \" + str(results.power_law.xmin))\n",
    "R, p = results.distribution_compare('power_law', 'lognormal')\n",
    "print(\"p is: \" + str(p))"
   ]
  },
  {
   "cell_type": "markdown",
   "metadata": {},
   "source": [
    "### For Tweets"
   ]
  },
  {
   "cell_type": "code",
   "execution_count": 27,
   "metadata": {},
   "outputs": [
    {
     "name": "stdout",
     "output_type": "stream",
     "text": [
      "[[91.754631856092, 5], [91.754631856092, 5], [93.6210345492209, 6], [93.6210345492209, 6], [94.82912516350204, 7], [95.7101181331482, 8], [96.37273412837273, 9], [97.25054594243605, 11], [98.06623165923462, 14], [99.02113971448193, 22]]\n"
     ]
    }
   ],
   "source": [
    "# Now lets look for the % intervals in tweets\n",
    "def find_tweet_break(percent):\n",
    "    tw = 1\n",
    "    while True:\n",
    "        subset = tweets[tweets<tw]\n",
    "        actual_percent = len(subset)*100/len(tweets)\n",
    "        if actual_percent < percent:\n",
    "            tw += 1\n",
    "        else:      \n",
    "            break\n",
    "    return([actual_percent,tw])\n",
    "\n",
    "t_data = []\n",
    "for percent in [*range(90,100,1)]:\n",
    "    t_data.append(find_tweet_break(percent))\n",
    "    \n",
    "print(t_data)\n",
    "\n",
    "# So 91% of authors tweeted <= 5 times, \n",
    "# 95% of authors tweeted <= 8 times, "
   ]
  },
  {
   "cell_type": "code",
   "execution_count": 28,
   "metadata": {},
   "outputs": [
    {
     "data": {
      "image/png": "[encoded data removed]",
      "text/plain": [
       "<Figure size 432x288 with 1 Axes>"
      ]
     },
     "metadata": {
      "needs_background": "light"
     },
     "output_type": "display_data"
    }
   ],
   "source": [
    "plt.hist(tweets[tweets<8], 20, facecolor='red')\n",
    "plt.xlabel('Retweets')\n",
    "plt.ylabel('Count')\n",
    "plt.title(\"Author Tweet Count\")\n",
    "plt.show()\n",
    "\n",
    "# Super power law like"
   ]
  },
  {
   "cell_type": "code",
   "execution_count": 29,
   "metadata": {},
   "outputs": [
    {
     "name": "stderr",
     "output_type": "stream",
     "text": [
      "Calculating best minimal value for power law fit\n"
     ]
    },
    {
     "name": "stdout",
     "output_type": "stream",
     "text": [
      "alpha is: 2.1885876135425097\n",
      "xmin is: 3.0\n",
      "p is: 1.9667641660108692e-199\n"
     ]
    }
   ],
   "source": [
    "# Indeed we can do some kind of power law analysis\n",
    "# https://pypi.org/project/powerlaw/\n",
    "\n",
    "results = powerlaw.Fit(retweets[retweets<48])\n",
    "print(\"alpha is: \" + str(results.power_law.alpha))\n",
    "print(\"xmin is: \" + str(results.power_law.xmin))\n",
    "R, p = results.distribution_compare('power_law', 'lognormal')\n",
    "print(\"p is: \" + str(p))"
   ]
  },
  {
   "cell_type": "code",
   "execution_count": 30,
   "metadata": {},
   "outputs": [
    {
     "name": "stdout",
     "output_type": "stream",
     "text": [
      "381.76751375198364\n"
     ]
    }
   ],
   "source": [
    "elapsed_time = time.time() - start_time\n",
    "print(elapsed_time)"
   ]
  },
  {
   "cell_type": "code",
   "execution_count": null,
   "metadata": {},
   "outputs": [],
   "source": []
  }
 ],
 "metadata": {
  "kernelspec": {
   "display_name": "Python 3",
   "language": "python",
   "name": "python3"
  },
  "language_info": {
   "codemirror_mode": {
    "name": "ipython",
    "version": 3
   },
   "file_extension": ".py",
   "mimetype": "text/x-python",
   "name": "python",
   "nbconvert_exporter": "python",
   "pygments_lexer": "ipython3",
   "version": "3.7.3"
  }
 },
 "nbformat": 4,
 "nbformat_minor": 4
}
