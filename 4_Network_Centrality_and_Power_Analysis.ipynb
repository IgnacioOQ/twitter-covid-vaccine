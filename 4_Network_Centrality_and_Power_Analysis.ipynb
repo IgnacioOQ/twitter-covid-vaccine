{
 "cells": [
  {
   "cell_type": "code",
   "execution_count": null,
   "metadata": {},
   "outputs": [],
   "source": [
    "import json\n",
    "import networkx as nx\n",
    "import numpy as np\n",
    "import matplotlib.pyplot as plt\n",
    "\n",
    "import pickle\n",
    "from itertools import combinations\n",
    "\n",
    "import pprint\n",
    "import json\n",
    "import glob\n",
    "from random import random, randrange\n",
    "import logging\n",
    "from collections import defaultdict\n",
    "import sys\n",
    "\n",
    "import subprocess\n",
    "import shlex\n",
    "from scipy.stats import pearsonr\n",
    "\n",
    "from datetime import datetime, timedelta\n",
    "from dateutil.parser import parse\n",
    "import datetime\n",
    "from collections import Counter\n",
    "from scipy.signal import savgol_filter\n",
    "import itertools\n",
    "\n",
    "from collections import defaultdict\n",
    "\n",
    "import networkx as nx\n",
    "import numpy\n",
    "from scipy.cluster import hierarchy\n",
    "from scipy.spatial import distance\n",
    "import matplotlib.pyplot as plt\n",
    "from datetime import datetime\n",
    "\n",
    "from scipy.cluster.hierarchy import dendrogram\n",
    "\n",
    "#pip install python-louvain\n",
    "import community as community_louvain\n",
    "from operator import itemgetter \n",
    "\n",
    "import powerlaw\n",
    "\n",
    "from tqdm import trange, tqdm\n",
    "\n",
    "import time"
   ]
  },
  {
   "cell_type": "code",
   "execution_count": null,
   "metadata": {},
   "outputs": [],
   "source": [
    "start_time = time.time()"
   ]
  },
  {
   "cell_type": "markdown",
   "metadata": {},
   "source": [
    "## Functions"
   ]
  },
  {
   "cell_type": "code",
   "execution_count": null,
   "metadata": {},
   "outputs": [],
   "source": [
    "# There is an out_degree_centrality algorithm implemented, \n",
    "# https://networkx.github.io/documentation/stable/reference/algorithms/generated/networkx.algorithms.centrality.out_degree_centrality.html#networkx.algorithms.centrality.out_degree_centrality\n",
    "# but it does not take into account edge weight\n",
    "# and edge weight here is important\n",
    "# So we do it ourselves\n",
    "\n",
    "def find_node_w_outdegree(node,network):\n",
    "    out_degree = int(0)\n",
    "    # https://networkx.org/documentation/stable/reference/classes/generated/networkx.DiGraph.neighbors.html\n",
    "    # .neighbors gives you the 'successors', i.e. the PT.neighbots(n*) are all the nodes n* points to.\n",
    "    for neighbor in network.neighbors(node):\n",
    "        out_degree += network.edges[node,neighbor]['weight']\n",
    "    return(out_degree)\n",
    "\n",
    "def find_node_w_indegree(node,network):\n",
    "    in_degree = int(0)\n",
    "    # https://networkx.org/documentation/stable/reference/classes/generated/networkx.DiGraph.neighbors.html\n",
    "    # .neighbors gives you the 'successors', i.e. the PT.neighbots(n*) are all the nodes n* points to.\n",
    "    for neighbor in network.predecessors(node):\n",
    "        in_degree += network.edges[neighbor,node]['weight']\n",
    "    return(in_degree)\n",
    "\n",
    "def count_neighbors(node,network):\n",
    "    neighbors = int(0)\n",
    "    for neighbor in network.neighbors(node):\n",
    "        neighbors += 1\n",
    "    for neighbor in network.predecessors(node):\n",
    "        neighbors += 1\n",
    "    return(neighbors)"
   ]
  },
  {
   "cell_type": "markdown",
   "metadata": {},
   "source": [
    "### Full Network"
   ]
  },
  {
   "cell_type": "code",
   "execution_count": null,
   "metadata": {},
   "outputs": [],
   "source": [
    "PT = nx.read_gexf('PT-pruned.gexf')"
   ]
  },
  {
   "cell_type": "code",
   "execution_count": null,
   "metadata": {},
   "outputs": [],
   "source": [
    "find_node_w_outdegree('JoeBiden',PT)"
   ]
  },
  {
   "cell_type": "code",
   "execution_count": null,
   "metadata": {},
   "outputs": [],
   "source": [
    "count = []\n",
    "neighbors = []\n",
    "retweets = []\n",
    "indegree = []\n",
    "for node in tqdm(PT.nodes):\n",
    "    count.append(PT.nodes[node]['count'])\n",
    "    retweets.append(find_node_w_outdegree(node,PT))\n",
    "    neighbors.append(count_neighbors(node,PT))\n",
    "    indegree.append(find_node_w_indegree(node,PT))\n",
    "\n",
    "count = np.array(count)\n",
    "retweets = np.array(retweets)\n",
    "neighbors = np.array(neighbors)\n",
    "indegree = np.array(indegree)"
   ]
  },
  {
   "cell_type": "code",
   "execution_count": null,
   "metadata": {},
   "outputs": [],
   "source": [
    "# We need some basic pruning to even visualize it intelligibly\n",
    "# one standard deviation because its really spread\n",
    "def reject_outliers(data, m=0.25):\n",
    "    return data[abs(data - np.mean(data)) < m * np.std(data)]"
   ]
  },
  {
   "cell_type": "code",
   "execution_count": null,
   "metadata": {},
   "outputs": [],
   "source": [
    "plt.hist(reject_outliers(indegree), 200, facecolor='red')\n",
    "plt.xlabel('Number of In Degree')\n",
    "plt.ylabel('In Degree')\n",
    "plt.title(\"Author Retweet Count\")\n",
    "plt.show()"
   ]
  },
  {
   "cell_type": "code",
   "execution_count": null,
   "metadata": {},
   "outputs": [],
   "source": [
    "# Indeed we can do some kind of power law analysis\n",
    "# https://pypi.org/project/powerlaw/\n",
    "# https://journals.plos.org/plosone/article/file?id=10.1371/journal.pone.0085777&type=printable\n",
    "\n",
    "print(\"First with counts:\")\n",
    "results = powerlaw.Fit(count)\n",
    "print(\"alpha is: \" + str(results.power_law.alpha))\n",
    "print(\"xmin is: \" + str(results.power_law.xmin))\n",
    "R, p = results.distribution_compare('power_law', 'lognormal')\n",
    "print(\"p is: \" + str(p))\n",
    "\n",
    "print(\"--------------------------------------------\")\n",
    "print(\"Second with retweets:\")\n",
    "results = powerlaw.Fit(retweets)\n",
    "print(\"alpha is: \" + str(results.power_law.alpha))\n",
    "print(\"xmin is: \" + str(results.power_law.xmin))\n",
    "R, p = results.distribution_compare('power_law', 'lognormal')\n",
    "print(\"p is: \" + str(p))\n",
    "\n",
    "print(\"--------------------------------------------\")\n",
    "print(\"Third with neighbors:\")\n",
    "results = powerlaw.Fit(neighbors)\n",
    "print(\"alpha is: \" + str(results.power_law.alpha))\n",
    "print(\"xmin is: \" + str(results.power_law.xmin))\n",
    "R, p = results.distribution_compare('power_law', 'lognormal')\n",
    "print(\"p is: \" + str(p))\n",
    "\n",
    "print(\"--------------------------------------------\")\n",
    "print(\"Third with indegree:\")\n",
    "results = powerlaw.Fit(indegree)\n",
    "print(\"alpha is: \" + str(results.power_law.alpha))\n",
    "print(\"xmin is: \" + str(results.power_law.xmin))\n",
    "R, p = results.distribution_compare('power_law', 'lognormal')\n",
    "print(\"p is: \" + str(p))"
   ]
  },
  {
   "cell_type": "code",
   "execution_count": null,
   "metadata": {},
   "outputs": [],
   "source": [
    "PT.clear()"
   ]
  },
  {
   "cell_type": "markdown",
   "metadata": {},
   "source": [
    "### First Slice"
   ]
  },
  {
   "cell_type": "code",
   "execution_count": null,
   "metadata": {},
   "outputs": [],
   "source": [
    "PT1 = nx.read_gexf('PT-Slice1.gexf')"
   ]
  },
  {
   "cell_type": "code",
   "execution_count": null,
   "metadata": {},
   "outputs": [],
   "source": [
    "count = []\n",
    "neighbors = []\n",
    "retweets = []\n",
    "indegree = []\n",
    "for node in tqdm(PT1.nodes):\n",
    "    count.append(PT1.nodes[node]['count'])\n",
    "    retweets.append(find_node_w_outdegree(node,PT1))\n",
    "    neighbors.append(count_neighbors(node,PT1))\n",
    "    indegree.append(find_node_w_indegree(node,PT1))\n",
    "\n",
    "count = np.array(count)\n",
    "retweets = np.array(retweets)\n",
    "neighbors = np.array(neighbors)\n",
    "indegree = np.array(indegree)"
   ]
  },
  {
   "cell_type": "code",
   "execution_count": null,
   "metadata": {},
   "outputs": [],
   "source": [
    "# We need some basic pruning to even visualize it intelligibly\n",
    "# one standard deviation because its really spread\n",
    "def reject_outliers(data, m=0.25):\n",
    "    return data[abs(data - np.mean(data)) < m * np.std(data)]"
   ]
  },
  {
   "cell_type": "code",
   "execution_count": null,
   "metadata": {},
   "outputs": [],
   "source": [
    "plt.hist(reject_outliers(indegree), 200, facecolor='red')\n",
    "plt.xlabel('Number of In Degree')\n",
    "plt.ylabel('In Degree')\n",
    "plt.title(\"Author Retweet Count\")\n",
    "plt.show()"
   ]
  },
  {
   "cell_type": "code",
   "execution_count": null,
   "metadata": {},
   "outputs": [],
   "source": [
    "# Indeed we can do some kind of power law analysis\n",
    "# https://pypi.org/project/powerlaw/\n",
    "# https://journals.plos.org/plosone/article/file?id=10.1371/journal.pone.0085777&type=printable\n",
    "\n",
    "print(\"First with counts:\")\n",
    "results = powerlaw.Fit(count)\n",
    "print(\"alpha is: \" + str(results.power_law.alpha))\n",
    "print(\"xmin is: \" + str(results.power_law.xmin))\n",
    "R, p = results.distribution_compare('power_law', 'lognormal')\n",
    "print(\"p is: \" + str(p))\n",
    "\n",
    "print(\"--------------------------------------------\")\n",
    "print(\"Second with retweets:\")\n",
    "results = powerlaw.Fit(retweets)\n",
    "print(\"alpha is: \" + str(results.power_law.alpha))\n",
    "print(\"xmin is: \" + str(results.power_law.xmin))\n",
    "R, p = results.distribution_compare('power_law', 'lognormal')\n",
    "print(\"p is: \" + str(p))\n",
    "\n",
    "print(\"--------------------------------------------\")\n",
    "print(\"Third with neighbors:\")\n",
    "results = powerlaw.Fit(neighbors)\n",
    "print(\"alpha is: \" + str(results.power_law.alpha))\n",
    "print(\"xmin is: \" + str(results.power_law.xmin))\n",
    "R, p = results.distribution_compare('power_law', 'lognormal')\n",
    "print(\"p is: \" + str(p))\n",
    "\n",
    "print(\"--------------------------------------------\")\n",
    "print(\"Third with indegree:\")\n",
    "results = powerlaw.Fit(indegree)\n",
    "print(\"alpha is: \" + str(results.power_law.alpha))\n",
    "print(\"xmin is: \" + str(results.power_law.xmin))\n",
    "R, p = results.distribution_compare('power_law', 'lognormal')\n",
    "print(\"p is: \" + str(p))"
   ]
  },
  {
   "cell_type": "code",
   "execution_count": null,
   "metadata": {},
   "outputs": [],
   "source": [
    "PT1.clear()"
   ]
  },
  {
   "cell_type": "markdown",
   "metadata": {},
   "source": [
    "### Second Slice"
   ]
  },
  {
   "cell_type": "code",
   "execution_count": null,
   "metadata": {},
   "outputs": [],
   "source": [
    "PT2 = nx.read_gexf('PT-Slice2.gexf')"
   ]
  },
  {
   "cell_type": "code",
   "execution_count": null,
   "metadata": {},
   "outputs": [],
   "source": [
    "count = []\n",
    "neighbors = []\n",
    "retweets = []\n",
    "indegree = []\n",
    "for node in tqdm(PT2.nodes):\n",
    "    count.append(PT2.nodes[node]['count'])\n",
    "    retweets.append(find_node_w_outdegree(node,PT2))\n",
    "    neighbors.append(count_neighbors(node,PT2))\n",
    "    indegree.append(find_node_w_indegree(node,PT2))\n",
    "\n",
    "count = np.array(count)\n",
    "retweets = np.array(retweets)\n",
    "neighbors = np.array(neighbors)\n",
    "indegree = np.array(indegree)"
   ]
  },
  {
   "cell_type": "code",
   "execution_count": null,
   "metadata": {},
   "outputs": [],
   "source": [
    "# We need some basic pruning to even visualize it intelligibly\n",
    "# one standard deviation because its really spread\n",
    "def reject_outliers(data, m=0.25):\n",
    "    return data[abs(data - np.mean(data)) < m * np.std(data)]"
   ]
  },
  {
   "cell_type": "code",
   "execution_count": null,
   "metadata": {},
   "outputs": [],
   "source": [
    "plt.hist(reject_outliers(indegree), 200, facecolor='red')\n",
    "plt.xlabel('Number of In Degree')\n",
    "plt.ylabel('In Degree')\n",
    "plt.title(\"Author Retweet Count\")\n",
    "plt.show()"
   ]
  },
  {
   "cell_type": "code",
   "execution_count": null,
   "metadata": {},
   "outputs": [],
   "source": [
    "# Indeed we can do some kind of power law analysis\n",
    "# https://pypi.org/project/powerlaw/\n",
    "# https://journals.plos.org/plosone/article/file?id=10.1371/journal.pone.0085777&type=printable\n",
    "\n",
    "print(\"First with counts:\")\n",
    "results = powerlaw.Fit(count)\n",
    "print(\"alpha is: \" + str(results.power_law.alpha))\n",
    "print(\"xmin is: \" + str(results.power_law.xmin))\n",
    "R, p = results.distribution_compare('power_law', 'lognormal')\n",
    "print(\"p is: \" + str(p))\n",
    "\n",
    "print(\"--------------------------------------------\")\n",
    "print(\"Second with retweets:\")\n",
    "results = powerlaw.Fit(retweets)\n",
    "print(\"alpha is: \" + str(results.power_law.alpha))\n",
    "print(\"xmin is: \" + str(results.power_law.xmin))\n",
    "R, p = results.distribution_compare('power_law', 'lognormal')\n",
    "print(\"p is: \" + str(p))\n",
    "\n",
    "print(\"--------------------------------------------\")\n",
    "print(\"Third with neighbors:\")\n",
    "results = powerlaw.Fit(neighbors)\n",
    "print(\"alpha is: \" + str(results.power_law.alpha))\n",
    "print(\"xmin is: \" + str(results.power_law.xmin))\n",
    "R, p = results.distribution_compare('power_law', 'lognormal')\n",
    "print(\"p is: \" + str(p))\n",
    "\n",
    "print(\"--------------------------------------------\")\n",
    "print(\"Third with indegree:\")\n",
    "results = powerlaw.Fit(indegree)\n",
    "print(\"alpha is: \" + str(results.power_law.alpha))\n",
    "print(\"xmin is: \" + str(results.power_law.xmin))\n",
    "R, p = results.distribution_compare('power_law', 'lognormal')\n",
    "print(\"p is: \" + str(p))"
   ]
  },
  {
   "cell_type": "code",
   "execution_count": null,
   "metadata": {},
   "outputs": [],
   "source": [
    "PT2.clear()"
   ]
  },
  {
   "cell_type": "markdown",
   "metadata": {},
   "source": [
    "# By Community\n",
    "\n",
    "For each community we want:\n",
    "\n",
    "- Proportion of overall population\n",
    "- Proportion of overall out weighted edges (i.e. of retweets)\n",
    "- A power law analysis\n"
   ]
  },
  {
   "cell_type": "code",
   "execution_count": null,
   "metadata": {},
   "outputs": [],
   "source": [
    "PT = nx.read_gexf('PT-pruned.gexf')"
   ]
  },
  {
   "cell_type": "code",
   "execution_count": null,
   "metadata": {},
   "outputs": [],
   "source": [
    "# clusters we care about\n",
    "clusters = [13,48,6,49,104]\n",
    "labels = [\"Democrats\",\"Republicans\",\"Unorthodox\",\"Public Health\",\"Antivaxxers\"]"
   ]
  },
  {
   "cell_type": "code",
   "execution_count": null,
   "metadata": {},
   "outputs": [],
   "source": [
    "def author_to_cluster(author):\n",
    "    return(PT.nodes[author]['louvain'])"
   ]
  },
  {
   "cell_type": "markdown",
   "metadata": {},
   "source": [
    "### Proportion of overall population"
   ]
  },
  {
   "cell_type": "code",
   "execution_count": null,
   "metadata": {},
   "outputs": [],
   "source": [
    "tot_nodes = len(PT.nodes)\n",
    "def prop_nodes_in_cluster(cluster):\n",
    "    count = 0\n",
    "    for node in tqdm(PT.nodes()):\n",
    "        if PT.nodes[node]['louvain']==cluster:\n",
    "            count += 1\n",
    "    prop = count/tot_nodes\n",
    "    return prop\n",
    "tot_nodes"
   ]
  },
  {
   "cell_type": "code",
   "execution_count": null,
   "metadata": {},
   "outputs": [],
   "source": [
    "proportion = 0\n",
    "for i in range(5):\n",
    "    proportion += prop_nodes_in_cluster(clusters[i])\n",
    "    print('Proportion of population of ' + str(labels[i]) + ' is: ' + str(prop_nodes_in_cluster(clusters[i])))\n",
    "print('Total proportion is: ' + str(proportion))    "
   ]
  },
  {
   "cell_type": "markdown",
   "metadata": {},
   "source": [
    "### Proportion of out weighted edges (retweets)"
   ]
  },
  {
   "cell_type": "code",
   "execution_count": null,
   "metadata": {},
   "outputs": [],
   "source": [
    "tot_out_wedges = 0\n",
    "for node in tqdm(PT.nodes()):\n",
    "    tot_out_wedges += find_node_w_outdegree(node,PT)\n",
    "\n",
    "\n",
    "def prop_wout_edges_in_cluster(cluster):\n",
    "    count = 0\n",
    "    for node in tqdm(PT.nodes()):\n",
    "        if PT.nodes[node]['louvain']==cluster:\n",
    "            count += find_node_w_outdegree(node,PT)\n",
    "    prop = count/tot_out_wedges\n",
    "    return prop"
   ]
  },
  {
   "cell_type": "code",
   "execution_count": null,
   "metadata": {},
   "outputs": [],
   "source": [
    "tot_out_wedges"
   ]
  },
  {
   "cell_type": "code",
   "execution_count": null,
   "metadata": {},
   "outputs": [],
   "source": [
    "proportion = 0\n",
    "for i in range(5):\n",
    "    proportion += prop_wout_edges_in_cluster(clusters[i])\n",
    "    print('Proportion of out weighted edges of ' + str(labels[i]) + ' is: ' + str(prop_wout_edges_in_cluster(clusters[i])))\n",
    "    \n",
    "print('Total proportion of out edges is: ' + str(proportion))    "
   ]
  },
  {
   "cell_type": "markdown",
   "metadata": {},
   "source": [
    "### Proportion of IN weighted edges"
   ]
  },
  {
   "cell_type": "code",
   "execution_count": null,
   "metadata": {},
   "outputs": [],
   "source": [
    "tot_in_wedges = 0\n",
    "for node in tqdm(PT.nodes()):\n",
    "    tot_in_wedges += find_node_w_indegree(node,PT)  \n",
    "\n",
    "def prop_win_edges_in_cluster(cluster):\n",
    "    count = 0\n",
    "    for node in tqdm(PT.nodes()):\n",
    "        if PT.nodes[node]['louvain']==cluster:\n",
    "            count += find_node_w_indegree(node,PT)\n",
    "    prop = count/tot_in_wedges\n",
    "    return prop\n",
    "\n",
    "tot_in_wedges"
   ]
  },
  {
   "cell_type": "code",
   "execution_count": null,
   "metadata": {},
   "outputs": [],
   "source": [
    "proportion = 0\n",
    "\n",
    "for i in range(5):\n",
    "    proportion += prop_win_edges_in_cluster(clusters[i])\n",
    "    print('Proportion of in weighted edges of ' + str(labels[i]) + ' is: ' + str(prop_win_edges_in_cluster(clusters[i])))\n",
    "    \n",
    "\n",
    "print('Total proportion of in edges is: ' + str(proportion))    "
   ]
  }
 ],
 "metadata": {
  "kernelspec": {
   "display_name": "Python 3",
   "language": "python",
   "name": "python3"
  },
  "language_info": {
   "codemirror_mode": {
    "name": "ipython",
    "version": 3
   },
   "file_extension": ".py",
   "mimetype": "text/x-python",
   "name": "python",
   "nbconvert_exporter": "python",
   "pygments_lexer": "ipython3",
   "version": "3.7.3"
  }
 },
 "nbformat": 4,
 "nbformat_minor": 4
}
